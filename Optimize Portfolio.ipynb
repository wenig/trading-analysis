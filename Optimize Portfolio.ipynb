{
 "cells": [
  {
   "cell_type": "markdown",
   "metadata": {
    "collapsed": true
   },
   "source": [
    "### Import libraries"
   ]
  },
  {
   "cell_type": "code",
   "execution_count": 2,
   "metadata": {
    "collapsed": true
   },
   "outputs": [],
   "source": [
    "import pandas as pd\n",
    "import numpy as np\n",
    "import matplotlib.pyplot as plt\n",
    "import scipy.optimize as spo"
   ]
  },
  {
   "cell_type": "markdown",
   "metadata": {},
   "source": [
    "### Define function for loading data"
   ]
  },
  {
   "cell_type": "code",
   "execution_count": 3,
   "metadata": {
    "collapsed": true
   },
   "outputs": [],
   "source": [
    "def load_set(name):\n",
    "    dates = pd.date_range('2015-10-03', '2016-10-02')\n",
    "    df = pd.DataFrame(index=dates)\n",
    "    shares = pd.read_csv(name+'.csv', index_col='Date', parse_dates=True, usecols=['Date', 'Adj Close'])\n",
    "    df = df.join(shares)\n",
    "    df = df.dropna(subset=[\"Adj Close\"])\n",
    "    return df.copy()"
   ]
  },
  {
   "cell_type": "markdown",
   "metadata": {},
   "source": [
    "### Define function for calculating sharp ratio"
   ]
  },
  {
   "cell_type": "code",
   "execution_count": 4,
   "metadata": {
    "collapsed": true
   },
   "outputs": [],
   "source": [
    "def get_sharp_ratio(df, w, x, y, z):\n",
    "\n",
    "    start_val = 1000000\n",
    "    #allocate\n",
    "    df['spy'] = df['spy']*w\n",
    "    df['xom'] = df['xom']*x\n",
    "    df['goog'] = df['goog']*y\n",
    "    df['gld'] = df['gld']*z\n",
    "\n",
    "    #position values\n",
    "    df[['spy', 'xom', 'goog', 'gld']] = df[['spy', 'xom', 'goog', 'gld']]*start_val\n",
    "\n",
    "\n",
    "    #daily portfolio values\n",
    "    df['port_val'] = df.sum(axis=1)\n",
    "\n",
    "    #daily returns\n",
    "    df['daily_rets'] = df['port_val'] - start_val\n",
    "    df['daily_rets'] = df['daily_rets'][1:]\n",
    "\n",
    "    cum_ret = (df['port_val'][-1]/df['port_val'][0])-1\n",
    "    avg_daily_ret = df['daily_rets'].mean()\n",
    "    std_daily_ret = df['daily_rets'].std()\n",
    "\n",
    "    #sharp ratio\n",
    "    sharp_ratio = np.sqrt(252)*(avg_daily_ret/std_daily_ret)\n",
    "    return sharp_ratio"
   ]
  },
  {
   "cell_type": "markdown",
   "metadata": {},
   "source": [
    "### Define function for optimization"
   ]
  },
  {
   "cell_type": "code",
   "execution_count": 5,
   "metadata": {
    "collapsed": true
   },
   "outputs": [],
   "source": [
    "def f(c):\n",
    "    spy = load_set('spy')\n",
    "    xom = load_set('xom')\n",
    "    goog = load_set('goog')\n",
    "    gld = load_set('gld')\n",
    "\n",
    "    #merge\n",
    "    df = pd.DataFrame(index=spy.index)\n",
    "    df['spy'] = spy['Adj Close']\n",
    "    df['xom'] = xom['Adj Close']\n",
    "    df['goog'] = goog['Adj Close']\n",
    "    df['gld'] = gld['Adj Close']\n",
    "\n",
    "    #normalize\n",
    "    df['spy'] = df['spy']/df['spy'][0]\n",
    "    df['xom'] = df['xom']/df['xom'][0]\n",
    "    df['goog'] = df['goog']/df['goog'][0]\n",
    "    df['gld'] = df['gld']/df['gld'][0]\n",
    "\n",
    "    return get_sharp_ratio(df.copy(), c[0], c[1], c[2], c[3])*-1"
   ]
  },
  {
   "cell_type": "markdown",
   "metadata": {},
   "source": [
    "### Calling optimizer"
   ]
  },
  {
   "cell_type": "code",
   "execution_count": 6,
   "metadata": {
    "collapsed": false
   },
   "outputs": [
    {
     "name": "stdout",
     "output_type": "stream",
     "text": [
      "Optimization terminated successfully.    (Exit mode 0)\n",
      "            Current function value: -45.945568968\n",
      "            Iterations: 6\n",
      "            Function evaluations: 36\n",
      "            Gradient evaluations: 6\n",
      "Minima found at:\n",
      "spy = 0.0, xom = 0.255442582088, goog = 0.744557417913, gld = 0.0, sharp_ratio = 45.945568968\n"
     ]
    }
   ],
   "source": [
    "Xguess = [0.25,0.25,0.25,0.25]\n",
    "#sum of all variables must be 1\n",
    "constraints = ({'type': 'eq', 'fun': lambda x: sum(x)-1})\n",
    "bounds = [(0, 1)]*4\n",
    "min_result = spo.minimize(f, Xguess, method=\"SLSQP\", constraints=constraints, bounds=bounds, options={'disp': True})\n",
    "print 'Minima found at:'\n",
    "print \"spy = {}, xom = {}, goog = {}, gld = {}, sharp_ratio = {}\".format(min_result.x[0], min_result.x[1], min_result.x[2], min_result.x[3], min_result.fun*-1)"
   ]
  },
  {
   "cell_type": "code",
   "execution_count": null,
   "metadata": {
    "collapsed": true
   },
   "outputs": [],
   "source": []
  }
 ],
 "metadata": {
  "kernelspec": {
   "display_name": "Python 2",
   "language": "python",
   "name": "python2"
  },
  "language_info": {
   "codemirror_mode": {
    "name": "ipython",
    "version": 2
   },
   "file_extension": ".py",
   "mimetype": "text/x-python",
   "name": "python",
   "nbconvert_exporter": "python",
   "pygments_lexer": "ipython2",
   "version": "2.7.12"
  }
 },
 "nbformat": 4,
 "nbformat_minor": 1
}
